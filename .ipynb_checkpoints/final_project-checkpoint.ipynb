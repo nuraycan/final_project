{
 "cells": [
  {
   "cell_type": "markdown",
   "metadata": {},
   "source": [
    "# Final Project: Disney Movies Data Analysis: Disney Movies and Box Office Success\n",
    "## Author: Nuray CAN\n",
    "## Submission Date: Nov 6, Monday, 2023"
   ]
  },
  {
   "cell_type": "markdown",
   "metadata": {},
   "source": [
    "# Introduction\n",
    "\n",
    "## Question(s) of interests\n",
    "I will be conducting an analysis on a query related to the Disney datasets. Specifically, I will investigate the question of **\"What is the most preferred movie genre among audiences?\"**. Our aim with this analysis is to explore the success of movies in different genres by examining the average inflation adjusted gross for each genre in a given dataset. By focusing on financial performance as a measure of success, we hope to identify patterns and variations in the movie industry. \n",
    "\n",
    "## Dataset description \n",
    "\n",
    "In this notebook, we will analyze a dataset of Disney movies to explore what makes them successful.This notebook will be showing some exploratory data analysis for the `Disney` dataset located [here](https://data.world/kgarrett/disney-character-success-00-16). \n",
    "\n",
    "The disney dataset includes the following tables, `disney-characters.csv`, `disney-director.csv`, `disney-voice-actors.csv`, `idisney_revenue_1991-2016.csv` and `disney_movies_total_gross.csv` . Each table is stored in a `.csv` file and contains different information about disney movies including genres, revenue, directors, characters, and financial information. I will be using the `disney_movies_total_gross` table formally described below:\n",
    "\n",
    "* **disney_movies_total_gross.csv**\n",
    "    * This file contains information about Disney movie box office gross and inflation adjustments. Furthermore, it includes movie title,release date and Motion Picture Association film ratings(G: General audiences – All ages admitted, PG: Parental guidance suggested,PG-13: Parents strongly cautioned,R: Restricted – Under 17 requires accompanying parent or adult guardian)"
   ]
  },
  {
   "cell_type": "markdown",
   "metadata": {},
   "source": [
    "## 1. Import Required Libraries"
   ]
  },
  {
   "cell_type": "code",
   "execution_count": 26,
   "metadata": {},
   "outputs": [],
   "source": [
    "# Lets import all the required libraries needed for this analysis\n",
    "import pandas as pd # data processing\n",
    "import numpy as np # linear algebra\n",
    "import altair as alt # data visualization"
   ]
  },
  {
   "cell_type": "markdown",
   "metadata": {},
   "source": [
    "## 2. Load Related Dataset"
   ]
  },
  {
   "cell_type": "code",
   "execution_count": 27,
   "metadata": {},
   "outputs": [
    {
     "data": {
      "text/html": [
       "<div>\n",
       "<style scoped>\n",
       "    .dataframe tbody tr th:only-of-type {\n",
       "        vertical-align: middle;\n",
       "    }\n",
       "\n",
       "    .dataframe tbody tr th {\n",
       "        vertical-align: top;\n",
       "    }\n",
       "\n",
       "    .dataframe thead th {\n",
       "        text-align: right;\n",
       "    }\n",
       "</style>\n",
       "<table border=\"1\" class=\"dataframe\">\n",
       "  <thead>\n",
       "    <tr style=\"text-align: right;\">\n",
       "      <th></th>\n",
       "      <th>movie_title</th>\n",
       "      <th>release_date</th>\n",
       "      <th>genre</th>\n",
       "      <th>MPAA_rating</th>\n",
       "      <th>total_gross</th>\n",
       "      <th>inflation_adjusted_gross</th>\n",
       "    </tr>\n",
       "  </thead>\n",
       "  <tbody>\n",
       "    <tr>\n",
       "      <th>0</th>\n",
       "      <td>Snow White and the Seven Dwarfs</td>\n",
       "      <td>1937-12-21</td>\n",
       "      <td>Musical</td>\n",
       "      <td>G</td>\n",
       "      <td>$184,925,485</td>\n",
       "      <td>$5,228,953,251</td>\n",
       "    </tr>\n",
       "    <tr>\n",
       "      <th>1</th>\n",
       "      <td>Pinocchio</td>\n",
       "      <td>1940-02-09</td>\n",
       "      <td>Adventure</td>\n",
       "      <td>G</td>\n",
       "      <td>$84,300,000</td>\n",
       "      <td>$2,188,229,052</td>\n",
       "    </tr>\n",
       "    <tr>\n",
       "      <th>2</th>\n",
       "      <td>Fantasia</td>\n",
       "      <td>1940-11-13</td>\n",
       "      <td>Musical</td>\n",
       "      <td>G</td>\n",
       "      <td>$83,320,000</td>\n",
       "      <td>$2,187,090,808</td>\n",
       "    </tr>\n",
       "    <tr>\n",
       "      <th>3</th>\n",
       "      <td>Song of the South</td>\n",
       "      <td>1946-11-12</td>\n",
       "      <td>Adventure</td>\n",
       "      <td>G</td>\n",
       "      <td>$65,000,000</td>\n",
       "      <td>$1,078,510,579</td>\n",
       "    </tr>\n",
       "    <tr>\n",
       "      <th>4</th>\n",
       "      <td>Cinderella</td>\n",
       "      <td>1950-02-15</td>\n",
       "      <td>Drama</td>\n",
       "      <td>G</td>\n",
       "      <td>$85,000,000</td>\n",
       "      <td>$920,608,730</td>\n",
       "    </tr>\n",
       "  </tbody>\n",
       "</table>\n",
       "</div>"
      ],
      "text/plain": [
       "                       movie_title release_date      genre MPAA_rating  \\\n",
       "0  Snow White and the Seven Dwarfs   1937-12-21    Musical           G   \n",
       "1                        Pinocchio   1940-02-09  Adventure           G   \n",
       "2                         Fantasia   1940-11-13    Musical           G   \n",
       "3                Song of the South   1946-11-12  Adventure           G   \n",
       "4                       Cinderella   1950-02-15      Drama           G   \n",
       "\n",
       "    total_gross inflation_adjusted_gross  \n",
       "0  $184,925,485           $5,228,953,251  \n",
       "1   $84,300,000           $2,188,229,052  \n",
       "2   $83,320,000           $2,187,090,808  \n",
       "3   $65,000,000           $1,078,510,579  \n",
       "4   $85,000,000             $920,608,730  "
      ]
     },
     "execution_count": 27,
     "metadata": {},
     "output_type": "execute_result"
    }
   ],
   "source": [
    "# Load the Disney movie total gross dataset\n",
    "disney_movie_gross = pd.read_csv('data/disney_movies_total_gross.csv',parse_dates=['release_date'])# convert release_date to datetime\n",
    "disney_movie_gross.head() # Shows first 5 rows"
   ]
  },
  {
   "cell_type": "markdown",
   "metadata": {},
   "source": [
    "## 3. Get more info about table"
   ]
  },
  {
   "cell_type": "code",
   "execution_count": 28,
   "metadata": {},
   "outputs": [
    {
     "name": "stdout",
     "output_type": "stream",
     "text": [
      "<class 'pandas.core.frame.DataFrame'>\n",
      "RangeIndex: 579 entries, 0 to 578\n",
      "Data columns (total 6 columns):\n",
      " #   Column                    Non-Null Count  Dtype         \n",
      "---  ------                    --------------  -----         \n",
      " 0   movie_title               579 non-null    object        \n",
      " 1   release_date              579 non-null    datetime64[ns]\n",
      " 2   genre                     562 non-null    object        \n",
      " 3   MPAA_rating               523 non-null    object        \n",
      " 4   total_gross               579 non-null    object        \n",
      " 5   inflation_adjusted_gross  579 non-null    object        \n",
      "dtypes: datetime64[ns](1), object(5)\n",
      "memory usage: 27.3+ KB\n"
     ]
    }
   ],
   "source": [
    "#Let's get more info about table\n",
    "disney_movie_gross.info()"
   ]
  },
  {
   "cell_type": "code",
   "execution_count": 29,
   "metadata": {},
   "outputs": [
    {
     "data": {
      "text/plain": [
       "(579, 6)"
      ]
     },
     "execution_count": 29,
     "metadata": {},
     "output_type": "execute_result"
    }
   ],
   "source": [
    "#This code retrieves the dimensions (number of rows and columns) \n",
    "disney_movie_gross.shape"
   ]
  },
  {
   "cell_type": "markdown",
   "metadata": {},
   "source": [
    "## 4. Convert datatypes to proper datatypes "
   ]
  },
  {
   "cell_type": "code",
   "execution_count": 30,
   "metadata": {},
   "outputs": [],
   "source": [
    "# Convert the 'total_gross' column from string to numeric\n",
    "disney_movie_gross['total_gross'] = disney_movie_gross['total_gross'].str.replace('[\\$,]', '', regex=True).astype(float)\n",
    "# Now, the 'total_gross' column is numeric"
   ]
  },
  {
   "cell_type": "code",
   "execution_count": 31,
   "metadata": {},
   "outputs": [
    {
     "name": "stdout",
     "output_type": "stream",
     "text": [
      "float64\n"
     ]
    }
   ],
   "source": [
    "type_total_gross=disney_movie_gross['total_gross'].dtype\n",
    "print(type_total_gross)"
   ]
  },
  {
   "cell_type": "code",
   "execution_count": 32,
   "metadata": {},
   "outputs": [],
   "source": [
    "# Convert the 'inflation_adjusted_gross' column from string to numeric\n",
    "disney_movie_gross['inflation_adjusted_gross'] = disney_movie_gross['inflation_adjusted_gross'].str.replace('[\\$,]', '', regex=True).astype(float)\n",
    "# Now, the 'inflation_adjusted_gross' column is numeric"
   ]
  },
  {
   "cell_type": "code",
   "execution_count": 33,
   "metadata": {},
   "outputs": [
    {
     "name": "stdout",
     "output_type": "stream",
     "text": [
      "float64\n"
     ]
    }
   ],
   "source": [
    "type_inf_adjusted_gross=disney_movie_gross['inflation_adjusted_gross'].dtype\n",
    "print(type_inf_adjusted_gross)"
   ]
  },
  {
   "cell_type": "code",
   "execution_count": 34,
   "metadata": {},
   "outputs": [
    {
     "data": {
      "text/html": [
       "<div>\n",
       "<style scoped>\n",
       "    .dataframe tbody tr th:only-of-type {\n",
       "        vertical-align: middle;\n",
       "    }\n",
       "\n",
       "    .dataframe tbody tr th {\n",
       "        vertical-align: top;\n",
       "    }\n",
       "\n",
       "    .dataframe thead th {\n",
       "        text-align: right;\n",
       "    }\n",
       "</style>\n",
       "<table border=\"1\" class=\"dataframe\">\n",
       "  <thead>\n",
       "    <tr style=\"text-align: right;\">\n",
       "      <th></th>\n",
       "      <th>movie_title</th>\n",
       "      <th>release_date</th>\n",
       "      <th>genre</th>\n",
       "      <th>MPAA_rating</th>\n",
       "      <th>total_gross</th>\n",
       "      <th>inflation_adjusted_gross</th>\n",
       "    </tr>\n",
       "  </thead>\n",
       "  <tbody>\n",
       "    <tr>\n",
       "      <th>0</th>\n",
       "      <td>Snow White and the Seven Dwarfs</td>\n",
       "      <td>1937-12-21</td>\n",
       "      <td>Musical</td>\n",
       "      <td>G</td>\n",
       "      <td>184925485.0</td>\n",
       "      <td>5.228953e+09</td>\n",
       "    </tr>\n",
       "    <tr>\n",
       "      <th>1</th>\n",
       "      <td>Pinocchio</td>\n",
       "      <td>1940-02-09</td>\n",
       "      <td>Adventure</td>\n",
       "      <td>G</td>\n",
       "      <td>84300000.0</td>\n",
       "      <td>2.188229e+09</td>\n",
       "    </tr>\n",
       "    <tr>\n",
       "      <th>2</th>\n",
       "      <td>Fantasia</td>\n",
       "      <td>1940-11-13</td>\n",
       "      <td>Musical</td>\n",
       "      <td>G</td>\n",
       "      <td>83320000.0</td>\n",
       "      <td>2.187091e+09</td>\n",
       "    </tr>\n",
       "    <tr>\n",
       "      <th>3</th>\n",
       "      <td>Song of the South</td>\n",
       "      <td>1946-11-12</td>\n",
       "      <td>Adventure</td>\n",
       "      <td>G</td>\n",
       "      <td>65000000.0</td>\n",
       "      <td>1.078511e+09</td>\n",
       "    </tr>\n",
       "    <tr>\n",
       "      <th>4</th>\n",
       "      <td>Cinderella</td>\n",
       "      <td>1950-02-15</td>\n",
       "      <td>Drama</td>\n",
       "      <td>G</td>\n",
       "      <td>85000000.0</td>\n",
       "      <td>9.206087e+08</td>\n",
       "    </tr>\n",
       "  </tbody>\n",
       "</table>\n",
       "</div>"
      ],
      "text/plain": [
       "                       movie_title release_date      genre MPAA_rating  \\\n",
       "0  Snow White and the Seven Dwarfs   1937-12-21    Musical           G   \n",
       "1                        Pinocchio   1940-02-09  Adventure           G   \n",
       "2                         Fantasia   1940-11-13    Musical           G   \n",
       "3                Song of the South   1946-11-12  Adventure           G   \n",
       "4                       Cinderella   1950-02-15      Drama           G   \n",
       "\n",
       "   total_gross  inflation_adjusted_gross  \n",
       "0  184925485.0              5.228953e+09  \n",
       "1   84300000.0              2.188229e+09  \n",
       "2   83320000.0              2.187091e+09  \n",
       "3   65000000.0              1.078511e+09  \n",
       "4   85000000.0              9.206087e+08  "
      ]
     },
     "execution_count": 34,
     "metadata": {},
     "output_type": "execute_result"
    }
   ],
   "source": [
    "#print first 5 row to see what the tables look like.\n",
    "disney_movie_gross.head()"
   ]
  },
  {
   "cell_type": "code",
   "execution_count": 35,
   "metadata": {},
   "outputs": [
    {
     "name": "stdout",
     "output_type": "stream",
     "text": [
      "<class 'pandas.core.frame.DataFrame'>\n",
      "RangeIndex: 579 entries, 0 to 578\n",
      "Data columns (total 6 columns):\n",
      " #   Column                    Non-Null Count  Dtype         \n",
      "---  ------                    --------------  -----         \n",
      " 0   movie_title               579 non-null    object        \n",
      " 1   release_date              579 non-null    datetime64[ns]\n",
      " 2   genre                     562 non-null    object        \n",
      " 3   MPAA_rating               523 non-null    object        \n",
      " 4   total_gross               579 non-null    float64       \n",
      " 5   inflation_adjusted_gross  579 non-null    float64       \n",
      "dtypes: datetime64[ns](1), float64(2), object(3)\n",
      "memory usage: 27.3+ KB\n"
     ]
    }
   ],
   "source": [
    "# check again the data types\n",
    "disney_movie_gross.info()"
   ]
  },
  {
   "cell_type": "markdown",
   "metadata": {},
   "source": [
    "The **disney_movie_gross** table has $579$ rows with $6$ columns. Every movie has a **title**, a **release date**, a **genre**, a **Mpaa rating**, a **total gross**, an **inflation adjusted gross** and a **release year**."
   ]
  },
  {
   "cell_type": "markdown",
   "metadata": {},
   "source": [
    "## 4. Assess Data Cleanliness: Determine its Tidiness"
   ]
  },
  {
   "cell_type": "code",
   "execution_count": 36,
   "metadata": {},
   "outputs": [
    {
     "data": {
      "text/plain": [
       "movie_title                  0\n",
       "release_date                 0\n",
       "genre                       17\n",
       "MPAA_rating                 56\n",
       "total_gross                  0\n",
       "inflation_adjusted_gross     0\n",
       "dtype: int64"
      ]
     },
     "execution_count": 36,
     "metadata": {},
     "output_type": "execute_result"
    }
   ],
   "source": [
    "#This code counts and returns the number of missing values (NaN) in each column\n",
    "disney_movie_gross.isnull().sum()"
   ]
  },
  {
   "cell_type": "code",
   "execution_count": 37,
   "metadata": {},
   "outputs": [],
   "source": [
    "#Let's drop missing values in the 'genre' columns\n",
    "disney_movie_gross = disney_movie_gross.dropna(subset=['genre'])\n",
    "#Let's fill missing values in the 'MPAA_rating' columns with 'Not Rated'. \n",
    "disney_movie_gross['MPAA_rating'] = disney_movie_gross['MPAA_rating'].fillna('Not Rated')"
   ]
  },
  {
   "cell_type": "code",
   "execution_count": 38,
   "metadata": {},
   "outputs": [
    {
     "data": {
      "text/plain": [
       "movie_title                 0\n",
       "release_date                0\n",
       "genre                       0\n",
       "MPAA_rating                 0\n",
       "total_gross                 0\n",
       "inflation_adjusted_gross    0\n",
       "dtype: int64"
      ]
     },
     "execution_count": 38,
     "metadata": {},
     "output_type": "execute_result"
    }
   ],
   "source": [
    "#Let's check again the number of missing values (NaN) in each column\n",
    "disney_movie_gross.isnull().sum()"
   ]
  },
  {
   "cell_type": "code",
   "execution_count": 39,
   "metadata": {},
   "outputs": [
    {
     "data": {
      "text/html": [
       "<div>\n",
       "<style scoped>\n",
       "    .dataframe tbody tr th:only-of-type {\n",
       "        vertical-align: middle;\n",
       "    }\n",
       "\n",
       "    .dataframe tbody tr th {\n",
       "        vertical-align: top;\n",
       "    }\n",
       "\n",
       "    .dataframe thead th {\n",
       "        text-align: right;\n",
       "    }\n",
       "</style>\n",
       "<table border=\"1\" class=\"dataframe\">\n",
       "  <thead>\n",
       "    <tr style=\"text-align: right;\">\n",
       "      <th></th>\n",
       "      <th>total_gross</th>\n",
       "      <th>inflation_adjusted_gross</th>\n",
       "    </tr>\n",
       "  </thead>\n",
       "  <tbody>\n",
       "    <tr>\n",
       "      <th>count</th>\n",
       "      <td>5.620000e+02</td>\n",
       "      <td>5.620000e+02</td>\n",
       "    </tr>\n",
       "    <tr>\n",
       "      <th>mean</th>\n",
       "      <td>6.644891e+07</td>\n",
       "      <td>1.217009e+08</td>\n",
       "    </tr>\n",
       "    <tr>\n",
       "      <th>std</th>\n",
       "      <td>9.384227e+07</td>\n",
       "      <td>2.898131e+08</td>\n",
       "    </tr>\n",
       "    <tr>\n",
       "      <th>min</th>\n",
       "      <td>0.000000e+00</td>\n",
       "      <td>0.000000e+00</td>\n",
       "    </tr>\n",
       "    <tr>\n",
       "      <th>25%</th>\n",
       "      <td>1.417648e+07</td>\n",
       "      <td>2.447928e+07</td>\n",
       "    </tr>\n",
       "    <tr>\n",
       "      <th>50%</th>\n",
       "      <td>3.201474e+07</td>\n",
       "      <td>5.627863e+07</td>\n",
       "    </tr>\n",
       "    <tr>\n",
       "      <th>75%</th>\n",
       "      <td>7.792766e+07</td>\n",
       "      <td>1.224108e+08</td>\n",
       "    </tr>\n",
       "    <tr>\n",
       "      <th>max</th>\n",
       "      <td>9.366622e+08</td>\n",
       "      <td>5.228953e+09</td>\n",
       "    </tr>\n",
       "  </tbody>\n",
       "</table>\n",
       "</div>"
      ],
      "text/plain": [
       "        total_gross  inflation_adjusted_gross\n",
       "count  5.620000e+02              5.620000e+02\n",
       "mean   6.644891e+07              1.217009e+08\n",
       "std    9.384227e+07              2.898131e+08\n",
       "min    0.000000e+00              0.000000e+00\n",
       "25%    1.417648e+07              2.447928e+07\n",
       "50%    3.201474e+07              5.627863e+07\n",
       "75%    7.792766e+07              1.224108e+08\n",
       "max    9.366622e+08              5.228953e+09"
      ]
     },
     "execution_count": 39,
     "metadata": {},
     "output_type": "execute_result"
    }
   ],
   "source": [
    "#summarize the statistical values about our dataset to get more info about dataset\n",
    "disney_movie_gross.describe()"
   ]
  },
  {
   "cell_type": "markdown",
   "metadata": {},
   "source": [
    "## 5. Find Top 15 movies\n",
    "I will sort Disney movies by their inflation-adjusted gross to identify the top 15 highest earners at the box office."
   ]
  },
  {
   "cell_type": "code",
   "execution_count": 40,
   "metadata": {},
   "outputs": [
    {
     "data": {
      "text/html": [
       "<div>\n",
       "<style scoped>\n",
       "    .dataframe tbody tr th:only-of-type {\n",
       "        vertical-align: middle;\n",
       "    }\n",
       "\n",
       "    .dataframe tbody tr th {\n",
       "        vertical-align: top;\n",
       "    }\n",
       "\n",
       "    .dataframe thead th {\n",
       "        text-align: right;\n",
       "    }\n",
       "</style>\n",
       "<table border=\"1\" class=\"dataframe\">\n",
       "  <thead>\n",
       "    <tr style=\"text-align: right;\">\n",
       "      <th></th>\n",
       "      <th>movie_title</th>\n",
       "      <th>release_date</th>\n",
       "      <th>genre</th>\n",
       "      <th>MPAA_rating</th>\n",
       "      <th>total_gross</th>\n",
       "      <th>inflation_adjusted_gross</th>\n",
       "      <th>release_year</th>\n",
       "    </tr>\n",
       "  </thead>\n",
       "  <tbody>\n",
       "    <tr>\n",
       "      <th>0</th>\n",
       "      <td>Snow White and the Seven Dwarfs</td>\n",
       "      <td>1937-12-21</td>\n",
       "      <td>Musical</td>\n",
       "      <td>G</td>\n",
       "      <td>184925485.0</td>\n",
       "      <td>5.228953e+09</td>\n",
       "      <td>1937</td>\n",
       "    </tr>\n",
       "    <tr>\n",
       "      <th>1</th>\n",
       "      <td>Pinocchio</td>\n",
       "      <td>1940-02-09</td>\n",
       "      <td>Adventure</td>\n",
       "      <td>G</td>\n",
       "      <td>84300000.0</td>\n",
       "      <td>2.188229e+09</td>\n",
       "      <td>1940</td>\n",
       "    </tr>\n",
       "    <tr>\n",
       "      <th>2</th>\n",
       "      <td>Fantasia</td>\n",
       "      <td>1940-11-13</td>\n",
       "      <td>Musical</td>\n",
       "      <td>G</td>\n",
       "      <td>83320000.0</td>\n",
       "      <td>2.187091e+09</td>\n",
       "      <td>1940</td>\n",
       "    </tr>\n",
       "    <tr>\n",
       "      <th>8</th>\n",
       "      <td>101 Dalmatians</td>\n",
       "      <td>1961-01-25</td>\n",
       "      <td>Comedy</td>\n",
       "      <td>G</td>\n",
       "      <td>153000000.0</td>\n",
       "      <td>1.362871e+09</td>\n",
       "      <td>1961</td>\n",
       "    </tr>\n",
       "    <tr>\n",
       "      <th>6</th>\n",
       "      <td>Lady and the Tramp</td>\n",
       "      <td>1955-06-22</td>\n",
       "      <td>Drama</td>\n",
       "      <td>G</td>\n",
       "      <td>93600000.0</td>\n",
       "      <td>1.236036e+09</td>\n",
       "      <td>1955</td>\n",
       "    </tr>\n",
       "    <tr>\n",
       "      <th>3</th>\n",
       "      <td>Song of the South</td>\n",
       "      <td>1946-11-12</td>\n",
       "      <td>Adventure</td>\n",
       "      <td>G</td>\n",
       "      <td>65000000.0</td>\n",
       "      <td>1.078511e+09</td>\n",
       "      <td>1946</td>\n",
       "    </tr>\n",
       "    <tr>\n",
       "      <th>564</th>\n",
       "      <td>Star Wars Ep. VII: The Force Awakens</td>\n",
       "      <td>2015-12-18</td>\n",
       "      <td>Adventure</td>\n",
       "      <td>PG-13</td>\n",
       "      <td>936662225.0</td>\n",
       "      <td>9.366622e+08</td>\n",
       "      <td>2015</td>\n",
       "    </tr>\n",
       "    <tr>\n",
       "      <th>4</th>\n",
       "      <td>Cinderella</td>\n",
       "      <td>1950-02-15</td>\n",
       "      <td>Drama</td>\n",
       "      <td>G</td>\n",
       "      <td>85000000.0</td>\n",
       "      <td>9.206087e+08</td>\n",
       "      <td>1950</td>\n",
       "    </tr>\n",
       "    <tr>\n",
       "      <th>13</th>\n",
       "      <td>The Jungle Book</td>\n",
       "      <td>1967-10-18</td>\n",
       "      <td>Musical</td>\n",
       "      <td>Not Rated</td>\n",
       "      <td>141843000.0</td>\n",
       "      <td>7.896123e+08</td>\n",
       "      <td>1967</td>\n",
       "    </tr>\n",
       "    <tr>\n",
       "      <th>179</th>\n",
       "      <td>The Lion King</td>\n",
       "      <td>1994-06-15</td>\n",
       "      <td>Adventure</td>\n",
       "      <td>G</td>\n",
       "      <td>422780140.0</td>\n",
       "      <td>7.616409e+08</td>\n",
       "      <td>1994</td>\n",
       "    </tr>\n",
       "    <tr>\n",
       "      <th>524</th>\n",
       "      <td>The Avengers</td>\n",
       "      <td>2012-05-04</td>\n",
       "      <td>Action</td>\n",
       "      <td>PG-13</td>\n",
       "      <td>623279547.0</td>\n",
       "      <td>6.600812e+08</td>\n",
       "      <td>2012</td>\n",
       "    </tr>\n",
       "    <tr>\n",
       "      <th>441</th>\n",
       "      <td>Pirates of the Caribbean: Dead Man’…</td>\n",
       "      <td>2006-07-07</td>\n",
       "      <td>Adventure</td>\n",
       "      <td>PG-13</td>\n",
       "      <td>423315812.0</td>\n",
       "      <td>5.448171e+08</td>\n",
       "      <td>2006</td>\n",
       "    </tr>\n",
       "    <tr>\n",
       "      <th>578</th>\n",
       "      <td>Rogue One: A Star Wars Story</td>\n",
       "      <td>2016-12-16</td>\n",
       "      <td>Adventure</td>\n",
       "      <td>PG-13</td>\n",
       "      <td>529483936.0</td>\n",
       "      <td>5.294839e+08</td>\n",
       "      <td>2016</td>\n",
       "    </tr>\n",
       "    <tr>\n",
       "      <th>5</th>\n",
       "      <td>20,000 Leagues Under the Sea</td>\n",
       "      <td>1954-12-23</td>\n",
       "      <td>Adventure</td>\n",
       "      <td>Not Rated</td>\n",
       "      <td>28200000.0</td>\n",
       "      <td>5.282800e+08</td>\n",
       "      <td>1954</td>\n",
       "    </tr>\n",
       "    <tr>\n",
       "      <th>384</th>\n",
       "      <td>Finding Nemo</td>\n",
       "      <td>2003-05-30</td>\n",
       "      <td>Adventure</td>\n",
       "      <td>G</td>\n",
       "      <td>380529370.0</td>\n",
       "      <td>5.181486e+08</td>\n",
       "      <td>2003</td>\n",
       "    </tr>\n",
       "  </tbody>\n",
       "</table>\n",
       "</div>"
      ],
      "text/plain": [
       "                              movie_title release_date      genre MPAA_rating  \\\n",
       "0         Snow White and the Seven Dwarfs   1937-12-21    Musical           G   \n",
       "1                               Pinocchio   1940-02-09  Adventure           G   \n",
       "2                                Fantasia   1940-11-13    Musical           G   \n",
       "8                          101 Dalmatians   1961-01-25     Comedy           G   \n",
       "6                      Lady and the Tramp   1955-06-22      Drama           G   \n",
       "3                       Song of the South   1946-11-12  Adventure           G   \n",
       "564  Star Wars Ep. VII: The Force Awakens   2015-12-18  Adventure       PG-13   \n",
       "4                              Cinderella   1950-02-15      Drama           G   \n",
       "13                        The Jungle Book   1967-10-18    Musical   Not Rated   \n",
       "179                         The Lion King   1994-06-15  Adventure           G   \n",
       "524                          The Avengers   2012-05-04     Action       PG-13   \n",
       "441  Pirates of the Caribbean: Dead Man’…   2006-07-07  Adventure       PG-13   \n",
       "578          Rogue One: A Star Wars Story   2016-12-16  Adventure       PG-13   \n",
       "5            20,000 Leagues Under the Sea   1954-12-23  Adventure   Not Rated   \n",
       "384                          Finding Nemo   2003-05-30  Adventure           G   \n",
       "\n",
       "     total_gross  inflation_adjusted_gross  release_year  \n",
       "0    184925485.0              5.228953e+09          1937  \n",
       "1     84300000.0              2.188229e+09          1940  \n",
       "2     83320000.0              2.187091e+09          1940  \n",
       "8    153000000.0              1.362871e+09          1961  \n",
       "6     93600000.0              1.236036e+09          1955  \n",
       "3     65000000.0              1.078511e+09          1946  \n",
       "564  936662225.0              9.366622e+08          2015  \n",
       "4     85000000.0              9.206087e+08          1950  \n",
       "13   141843000.0              7.896123e+08          1967  \n",
       "179  422780140.0              7.616409e+08          1994  \n",
       "524  623279547.0              6.600812e+08          2012  \n",
       "441  423315812.0              5.448171e+08          2006  \n",
       "578  529483936.0              5.294839e+08          2016  \n",
       "5     28200000.0              5.282800e+08          1954  \n",
       "384  380529370.0              5.181486e+08          2003  "
      ]
     },
     "execution_count": 40,
     "metadata": {},
     "output_type": "execute_result"
    }
   ],
   "source": [
    "disney_movie_gross = disney_movie_gross.sort_values('inflation_adjusted_gross', ascending=False)\n",
    "\n",
    "# Add a 'release_year' column in case it becomes necessary for future use.\n",
    "disney_movie_gross['release_year'] = disney_movie_gross['release_date'].dt.year\n",
    "#disney_movie_gross=pd.DataFrame(disney_movie_gross)\n",
    "\n",
    "# Display the top 15 movies \n",
    "top_15_movies= disney_movie_gross[:15]\n",
    "top_15_movies"
   ]
  },
  {
   "cell_type": "code",
   "execution_count": 41,
   "metadata": {},
   "outputs": [
    {
     "data": {
      "text/html": [
       "\n",
       "<div id=\"altair-viz-20e1ae38a2174b3290e78d3024704413\"></div>\n",
       "<script type=\"text/javascript\">\n",
       "  (function(spec, embedOpt){\n",
       "    let outputDiv = document.currentScript.previousElementSibling;\n",
       "    if (outputDiv.id !== \"altair-viz-20e1ae38a2174b3290e78d3024704413\") {\n",
       "      outputDiv = document.getElementById(\"altair-viz-20e1ae38a2174b3290e78d3024704413\");\n",
       "    }\n",
       "    const paths = {\n",
       "      \"vega\": \"https://cdn.jsdelivr.net/npm//vega@5?noext\",\n",
       "      \"vega-lib\": \"https://cdn.jsdelivr.net/npm//vega-lib?noext\",\n",
       "      \"vega-lite\": \"https://cdn.jsdelivr.net/npm//vega-lite@4.8.1?noext\",\n",
       "      \"vega-embed\": \"https://cdn.jsdelivr.net/npm//vega-embed@6?noext\",\n",
       "    };\n",
       "\n",
       "    function loadScript(lib) {\n",
       "      return new Promise(function(resolve, reject) {\n",
       "        var s = document.createElement('script');\n",
       "        s.src = paths[lib];\n",
       "        s.async = true;\n",
       "        s.onload = () => resolve(paths[lib]);\n",
       "        s.onerror = () => reject(`Error loading script: ${paths[lib]}`);\n",
       "        document.getElementsByTagName(\"head\")[0].appendChild(s);\n",
       "      });\n",
       "    }\n",
       "\n",
       "    function showError(err) {\n",
       "      outputDiv.innerHTML = `<div class=\"error\" style=\"color:red;\">${err}</div>`;\n",
       "      throw err;\n",
       "    }\n",
       "\n",
       "    function displayChart(vegaEmbed) {\n",
       "      vegaEmbed(outputDiv, spec, embedOpt)\n",
       "        .catch(err => showError(`Javascript Error: ${err.message}<br>This usually means there's a typo in your chart specification. See the javascript console for the full traceback.`));\n",
       "    }\n",
       "\n",
       "    if(typeof define === \"function\" && define.amd) {\n",
       "      requirejs.config({paths});\n",
       "      require([\"vega-embed\"], displayChart, err => showError(`Error loading script: ${err.message}`));\n",
       "    } else if (typeof vegaEmbed === \"function\") {\n",
       "      displayChart(vegaEmbed);\n",
       "    } else {\n",
       "      loadScript(\"vega\")\n",
       "        .then(() => loadScript(\"vega-lite\"))\n",
       "        .then(() => loadScript(\"vega-embed\"))\n",
       "        .catch(showError)\n",
       "        .then(() => displayChart(vegaEmbed));\n",
       "    }\n",
       "  })({\"config\": {\"view\": {\"continuousWidth\": 400, \"continuousHeight\": 300}}, \"data\": {\"name\": \"data-bddecb343e7d24d858ffe7f3aac83272\"}, \"mark\": \"circle\", \"encoding\": {\"x\": {\"type\": \"ordinal\", \"field\": \"movie_title\", \"sort\": \"-y\", \"title\": \"Movie name\"}, \"y\": {\"type\": \"quantitative\", \"field\": \"inflation_adjusted_gross\", \"title\": \"Inflation Adjusted Gross Box Office Earnings\"}}, \"height\": 300, \"title\": \"Figure1: Top 15 movies\", \"width\": 500, \"$schema\": \"https://vega.github.io/schema/vega-lite/v4.8.1.json\", \"datasets\": {\"data-bddecb343e7d24d858ffe7f3aac83272\": [{\"movie_title\": \"Snow White and the Seven Dwarfs\", \"release_date\": \"1937-12-21T00:00:00\", \"genre\": \"Musical\", \"MPAA_rating\": \"G\", \"total_gross\": 184925485.0, \"inflation_adjusted_gross\": 5228953251.0, \"release_year\": 1937}, {\"movie_title\": \"Pinocchio\", \"release_date\": \"1940-02-09T00:00:00\", \"genre\": \"Adventure\", \"MPAA_rating\": \"G\", \"total_gross\": 84300000.0, \"inflation_adjusted_gross\": 2188229052.0, \"release_year\": 1940}, {\"movie_title\": \"Fantasia\", \"release_date\": \"1940-11-13T00:00:00\", \"genre\": \"Musical\", \"MPAA_rating\": \"G\", \"total_gross\": 83320000.0, \"inflation_adjusted_gross\": 2187090808.0, \"release_year\": 1940}, {\"movie_title\": \"101 Dalmatians\", \"release_date\": \"1961-01-25T00:00:00\", \"genre\": \"Comedy\", \"MPAA_rating\": \"G\", \"total_gross\": 153000000.0, \"inflation_adjusted_gross\": 1362870985.0, \"release_year\": 1961}, {\"movie_title\": \"Lady and the Tramp\", \"release_date\": \"1955-06-22T00:00:00\", \"genre\": \"Drama\", \"MPAA_rating\": \"G\", \"total_gross\": 93600000.0, \"inflation_adjusted_gross\": 1236035515.0, \"release_year\": 1955}, {\"movie_title\": \"Song of the South\", \"release_date\": \"1946-11-12T00:00:00\", \"genre\": \"Adventure\", \"MPAA_rating\": \"G\", \"total_gross\": 65000000.0, \"inflation_adjusted_gross\": 1078510579.0, \"release_year\": 1946}, {\"movie_title\": \"Star Wars Ep. VII: The Force Awakens\", \"release_date\": \"2015-12-18T00:00:00\", \"genre\": \"Adventure\", \"MPAA_rating\": \"PG-13\", \"total_gross\": 936662225.0, \"inflation_adjusted_gross\": 936662225.0, \"release_year\": 2015}, {\"movie_title\": \"Cinderella\", \"release_date\": \"1950-02-15T00:00:00\", \"genre\": \"Drama\", \"MPAA_rating\": \"G\", \"total_gross\": 85000000.0, \"inflation_adjusted_gross\": 920608730.0, \"release_year\": 1950}, {\"movie_title\": \"The Jungle Book\", \"release_date\": \"1967-10-18T00:00:00\", \"genre\": \"Musical\", \"MPAA_rating\": \"Not Rated\", \"total_gross\": 141843000.0, \"inflation_adjusted_gross\": 789612346.0, \"release_year\": 1967}, {\"movie_title\": \"The Lion King\", \"release_date\": \"1994-06-15T00:00:00\", \"genre\": \"Adventure\", \"MPAA_rating\": \"G\", \"total_gross\": 422780140.0, \"inflation_adjusted_gross\": 761640898.0, \"release_year\": 1994}, {\"movie_title\": \"The Avengers\", \"release_date\": \"2012-05-04T00:00:00\", \"genre\": \"Action\", \"MPAA_rating\": \"PG-13\", \"total_gross\": 623279547.0, \"inflation_adjusted_gross\": 660081224.0, \"release_year\": 2012}, {\"movie_title\": \"Pirates of the Caribbean: Dead Man\\u2019\\u2026\", \"release_date\": \"2006-07-07T00:00:00\", \"genre\": \"Adventure\", \"MPAA_rating\": \"PG-13\", \"total_gross\": 423315812.0, \"inflation_adjusted_gross\": 544817142.0, \"release_year\": 2006}, {\"movie_title\": \"Rogue One: A Star Wars Story\", \"release_date\": \"2016-12-16T00:00:00\", \"genre\": \"Adventure\", \"MPAA_rating\": \"PG-13\", \"total_gross\": 529483936.0, \"inflation_adjusted_gross\": 529483936.0, \"release_year\": 2016}, {\"movie_title\": \"20,000 Leagues Under the Sea\", \"release_date\": \"1954-12-23T00:00:00\", \"genre\": \"Adventure\", \"MPAA_rating\": \"Not Rated\", \"total_gross\": 28200000.0, \"inflation_adjusted_gross\": 528279994.0, \"release_year\": 1954}, {\"movie_title\": \"Finding Nemo\", \"release_date\": \"2003-05-30T00:00:00\", \"genre\": \"Adventure\", \"MPAA_rating\": \"G\", \"total_gross\": 380529370.0, \"inflation_adjusted_gross\": 518148559.0, \"release_year\": 2003}]}}, {\"mode\": \"vega-lite\"});\n",
       "</script>"
      ],
      "text/plain": [
       "alt.Chart(...)"
      ]
     },
     "execution_count": 41,
     "metadata": {},
     "output_type": "execute_result"
    }
   ],
   "source": [
    "# now plot it using altair\n",
    "top_15_movies_plot = (\n",
    "    alt.Chart(top_15_movies, width=500, height=300)\n",
    "    .mark_circle()\n",
    "    .encode(\n",
    "        x=alt.X(\"movie_title:O\", sort=\"-y\", title=\"Movie name\"),\n",
    "        y=alt.Y(\"inflation_adjusted_gross:Q\", title=\"Inflation Adjusted Gross Box Office Earnings\"),\n",
    "    )\n",
    "    .properties(title=\"Figure1: Top 15 movies\")\n",
    ")\n",
    "top_15_movies_plot"
   ]
  },
  {
   "cell_type": "markdown",
   "metadata": {},
   "source": [
    "## 6. Analyze the movie success regarding movie genres\n",
    "According to Figure 1, it appears that certain movie genres are more popular than others in the top 15 list. Therefore, we will analyze which genres are experiencing an increase in popularity."
   ]
  },
  {
   "cell_type": "markdown",
   "metadata": {},
   "source": [
    "### 6a. Import my function and format it "
   ]
  },
  {
   "cell_type": "code",
   "execution_count": 42,
   "metadata": {},
   "outputs": [
    {
     "name": "stdout",
     "output_type": "stream",
     "text": [
      "myfunction.py:2:24: W291 trailing whitespace\n",
      "myfunction.py:12:80: E501 line too long (102 > 79 characters)\n",
      "myfunction.py:17:80: E501 line too long (100 > 79 characters)\n",
      "myfunction.py:27:80: E501 line too long (85 > 79 characters)\n",
      "myfunction.py:28:80: E501 line too long (81 > 79 characters)\n",
      "myfunction.py:51:80: E501 line too long (85 > 79 characters)\n",
      "myfunction.py:87:80: E501 line too long (106 > 79 characters)\n",
      "myfunction.py:91:80: E501 line too long (109 > 79 characters)\n",
      "myfunction.py:101:80: E501 line too long (82 > 79 characters)\n",
      "myfunction.py:108:80: E501 line too long (81 > 79 characters)\n"
     ]
    }
   ],
   "source": [
    "# import the custom script to calculate average inflation adjusted gross for each genre\n",
    "from myfunction import calculate_average_inflation_adjusted_gross\n",
    "\n",
    "!flake8 myfunction.py"
   ]
  },
  {
   "cell_type": "markdown",
   "metadata": {},
   "source": [
    "### 6b. Import my test function and format it "
   ]
  },
  {
   "cell_type": "code",
   "execution_count": 43,
   "metadata": {},
   "outputs": [
    {
     "name": "stdout",
     "output_type": "stream",
     "text": [
      "\u001b[1mAll done! ✨ 🍰 ✨\u001b[0m\n",
      "1 file left unchanged.\u001b[0m\n"
     ]
    }
   ],
   "source": [
    "!black myfunction.py #format myfunction"
   ]
  },
  {
   "cell_type": "code",
   "execution_count": 44,
   "metadata": {},
   "outputs": [
    {
     "name": "stdout",
     "output_type": "stream",
     "text": [
      "test_myfunction.py:2:24: W291 trailing whitespace\n",
      "test_myfunction.py:6:74: W291 trailing whitespace\n",
      "test_myfunction.py:60:80: E501 line too long (85 > 79 characters)\n",
      "test_myfunction.py:62:80: E501 line too long (81 > 79 characters)\n",
      "test_myfunction.py:68:80: E501 line too long (96 > 79 characters)\n",
      "test_myfunction.py:72:1: E402 module level import not at top of file\n"
     ]
    }
   ],
   "source": [
    "!flake8 test_myfunction.py"
   ]
  },
  {
   "cell_type": "code",
   "execution_count": 45,
   "metadata": {},
   "outputs": [
    {
     "name": "stdout",
     "output_type": "stream",
     "text": [
      "\u001b[1mAll done! ✨ 🍰 ✨\u001b[0m\n",
      "1 file left unchanged.\u001b[0m\n"
     ]
    }
   ],
   "source": [
    "!black test_myfunction.py"
   ]
  },
  {
   "cell_type": "markdown",
   "metadata": {},
   "source": [
    "### 6c. Test my function  "
   ]
  },
  {
   "cell_type": "code",
   "execution_count": 46,
   "metadata": {},
   "outputs": [
    {
     "name": "stdout",
     "output_type": "stream",
     "text": [
      "\u001b[1m============================= test session starts ==============================\u001b[0m\n",
      "platform linux -- Python 3.8.5, pytest-6.2.4, py-1.10.0, pluggy-0.13.1\n",
      "rootdir: /home/jupyter/prog-python-ds-students/release/final_project\n",
      "plugins: anyio-3.2.1, dash-1.20.0\n",
      "collected 2 items                                                              \u001b[0m\u001b[1m\n",
      "\n",
      "test_myfunction.py \u001b[32m.\u001b[0m\u001b[32m.\u001b[0m\u001b[32m                                                    [100%]\u001b[0m\n",
      "\n",
      "\u001b[32m============================== \u001b[32m\u001b[1m2 passed\u001b[0m\u001b[32m in 0.79s\u001b[0m\u001b[32m ===============================\u001b[0m\n"
     ]
    }
   ],
   "source": [
    "#Use this code chunk to check your tests on the file test_sampling.py using pytest\n",
    "!pytest test_myfunction.py"
   ]
  },
  {
   "cell_type": "markdown",
   "metadata": {},
   "source": [
    "The test session results indicate that the test for the myfunction function, as defined in the test_myfunction.py file, has passed successfully.Therfore, this positive outcome assures that the myfunction function is performing as intended, meeting the defined criteria, and is ready for use in the final project or application."
   ]
  },
  {
   "cell_type": "markdown",
   "metadata": {},
   "source": [
    "### 6d. Calculate the mean inflation adjusted gross for each genre"
   ]
  },
  {
   "cell_type": "code",
   "execution_count": 47,
   "metadata": {},
   "outputs": [
    {
     "data": {
      "text/html": [
       "<div>\n",
       "<style scoped>\n",
       "    .dataframe tbody tr th:only-of-type {\n",
       "        vertical-align: middle;\n",
       "    }\n",
       "\n",
       "    .dataframe tbody tr th {\n",
       "        vertical-align: top;\n",
       "    }\n",
       "\n",
       "    .dataframe thead th {\n",
       "        text-align: right;\n",
       "    }\n",
       "</style>\n",
       "<table border=\"1\" class=\"dataframe\">\n",
       "  <thead>\n",
       "    <tr style=\"text-align: right;\">\n",
       "      <th></th>\n",
       "      <th>genre</th>\n",
       "      <th>inflation_adjusted_gross</th>\n",
       "    </tr>\n",
       "  </thead>\n",
       "  <tbody>\n",
       "    <tr>\n",
       "      <th>0</th>\n",
       "      <td>Action</td>\n",
       "      <td>1.374734e+08</td>\n",
       "    </tr>\n",
       "    <tr>\n",
       "      <th>1</th>\n",
       "      <td>Adventure</td>\n",
       "      <td>1.903974e+08</td>\n",
       "    </tr>\n",
       "    <tr>\n",
       "      <th>2</th>\n",
       "      <td>Black Comedy</td>\n",
       "      <td>5.224349e+07</td>\n",
       "    </tr>\n",
       "    <tr>\n",
       "      <th>3</th>\n",
       "      <td>Comedy</td>\n",
       "      <td>8.466773e+07</td>\n",
       "    </tr>\n",
       "    <tr>\n",
       "      <th>4</th>\n",
       "      <td>Concert/Performance</td>\n",
       "      <td>5.741084e+07</td>\n",
       "    </tr>\n",
       "    <tr>\n",
       "      <th>5</th>\n",
       "      <td>Documentary</td>\n",
       "      <td>1.271803e+07</td>\n",
       "    </tr>\n",
       "    <tr>\n",
       "      <th>6</th>\n",
       "      <td>Drama</td>\n",
       "      <td>7.189302e+07</td>\n",
       "    </tr>\n",
       "    <tr>\n",
       "      <th>7</th>\n",
       "      <td>Horror</td>\n",
       "      <td>2.341385e+07</td>\n",
       "    </tr>\n",
       "    <tr>\n",
       "      <th>8</th>\n",
       "      <td>Musical</td>\n",
       "      <td>6.035979e+08</td>\n",
       "    </tr>\n",
       "    <tr>\n",
       "      <th>9</th>\n",
       "      <td>Romantic Comedy</td>\n",
       "      <td>7.777708e+07</td>\n",
       "    </tr>\n",
       "    <tr>\n",
       "      <th>10</th>\n",
       "      <td>Thriller/Suspense</td>\n",
       "      <td>8.965379e+07</td>\n",
       "    </tr>\n",
       "    <tr>\n",
       "      <th>11</th>\n",
       "      <td>Western</td>\n",
       "      <td>7.381571e+07</td>\n",
       "    </tr>\n",
       "  </tbody>\n",
       "</table>\n",
       "</div>"
      ],
      "text/plain": [
       "                  genre  inflation_adjusted_gross\n",
       "0                Action              1.374734e+08\n",
       "1             Adventure              1.903974e+08\n",
       "2          Black Comedy              5.224349e+07\n",
       "3                Comedy              8.466773e+07\n",
       "4   Concert/Performance              5.741084e+07\n",
       "5           Documentary              1.271803e+07\n",
       "6                 Drama              7.189302e+07\n",
       "7                Horror              2.341385e+07\n",
       "8               Musical              6.035979e+08\n",
       "9       Romantic Comedy              7.777708e+07\n",
       "10    Thriller/Suspense              8.965379e+07\n",
       "11              Western              7.381571e+07"
      ]
     },
     "execution_count": 47,
     "metadata": {},
     "output_type": "execute_result"
    }
   ],
   "source": [
    "# Group movies by genre and calculate the mean inflation adjusted gross for each genre\n",
    "genre_success=calculate_average_inflation_adjusted_gross(disney_movie_gross,'genre','inflation_adjusted_gross')\n",
    "genre_success"
   ]
  },
  {
   "cell_type": "markdown",
   "metadata": {},
   "source": [
    "### 6e. Visualize the movie success regarding movie genres"
   ]
  },
  {
   "cell_type": "code",
   "execution_count": 48,
   "metadata": {},
   "outputs": [
    {
     "data": {
      "text/html": [
       "\n",
       "<div id=\"altair-viz-2ad585fabe4949458fcdccf37457cdd7\"></div>\n",
       "<script type=\"text/javascript\">\n",
       "  (function(spec, embedOpt){\n",
       "    let outputDiv = document.currentScript.previousElementSibling;\n",
       "    if (outputDiv.id !== \"altair-viz-2ad585fabe4949458fcdccf37457cdd7\") {\n",
       "      outputDiv = document.getElementById(\"altair-viz-2ad585fabe4949458fcdccf37457cdd7\");\n",
       "    }\n",
       "    const paths = {\n",
       "      \"vega\": \"https://cdn.jsdelivr.net/npm//vega@5?noext\",\n",
       "      \"vega-lib\": \"https://cdn.jsdelivr.net/npm//vega-lib?noext\",\n",
       "      \"vega-lite\": \"https://cdn.jsdelivr.net/npm//vega-lite@4.8.1?noext\",\n",
       "      \"vega-embed\": \"https://cdn.jsdelivr.net/npm//vega-embed@6?noext\",\n",
       "    };\n",
       "\n",
       "    function loadScript(lib) {\n",
       "      return new Promise(function(resolve, reject) {\n",
       "        var s = document.createElement('script');\n",
       "        s.src = paths[lib];\n",
       "        s.async = true;\n",
       "        s.onload = () => resolve(paths[lib]);\n",
       "        s.onerror = () => reject(`Error loading script: ${paths[lib]}`);\n",
       "        document.getElementsByTagName(\"head\")[0].appendChild(s);\n",
       "      });\n",
       "    }\n",
       "\n",
       "    function showError(err) {\n",
       "      outputDiv.innerHTML = `<div class=\"error\" style=\"color:red;\">${err}</div>`;\n",
       "      throw err;\n",
       "    }\n",
       "\n",
       "    function displayChart(vegaEmbed) {\n",
       "      vegaEmbed(outputDiv, spec, embedOpt)\n",
       "        .catch(err => showError(`Javascript Error: ${err.message}<br>This usually means there's a typo in your chart specification. See the javascript console for the full traceback.`));\n",
       "    }\n",
       "\n",
       "    if(typeof define === \"function\" && define.amd) {\n",
       "      requirejs.config({paths});\n",
       "      require([\"vega-embed\"], displayChart, err => showError(`Error loading script: ${err.message}`));\n",
       "    } else if (typeof vegaEmbed === \"function\") {\n",
       "      displayChart(vegaEmbed);\n",
       "    } else {\n",
       "      loadScript(\"vega\")\n",
       "        .then(() => loadScript(\"vega-lite\"))\n",
       "        .then(() => loadScript(\"vega-embed\"))\n",
       "        .catch(showError)\n",
       "        .then(() => displayChart(vegaEmbed));\n",
       "    }\n",
       "  })({\"config\": {\"view\": {\"continuousWidth\": 400, \"continuousHeight\": 300}}, \"data\": {\"name\": \"data-deea6b4a068c5e9602f68230b1141bc8\"}, \"mark\": \"bar\", \"encoding\": {\"x\": {\"type\": \"nominal\", \"field\": \"genre\", \"sort\": \"y\", \"title\": \"Movie Genre\"}, \"y\": {\"type\": \"quantitative\", \"field\": \"inflation_adjusted_gross\", \"title\": \"Average Inflation Adjusted Gross\"}}, \"height\": 300, \"title\": \"Figure 2: Exploring Movie Success Across Genres: Inflation Adjusted Gross Analysis\", \"width\": 500, \"$schema\": \"https://vega.github.io/schema/vega-lite/v4.8.1.json\", \"datasets\": {\"data-deea6b4a068c5e9602f68230b1141bc8\": [{\"genre\": \"Action\", \"inflation_adjusted_gross\": 137473419.65}, {\"genre\": \"Adventure\", \"inflation_adjusted_gross\": 190397412.0775194}, {\"genre\": \"Black Comedy\", \"inflation_adjusted_gross\": 52243491.666666664}, {\"genre\": \"Comedy\", \"inflation_adjusted_gross\": 84667730.29120879}, {\"genre\": \"Concert/Performance\", \"inflation_adjusted_gross\": 57410839.0}, {\"genre\": \"Documentary\", \"inflation_adjusted_gross\": 12718026.125}, {\"genre\": \"Drama\", \"inflation_adjusted_gross\": 71893021.78947368}, {\"genre\": \"Horror\", \"inflation_adjusted_gross\": 23413848.666666668}, {\"genre\": \"Musical\", \"inflation_adjusted_gross\": 603597861.0}, {\"genre\": \"Romantic Comedy\", \"inflation_adjusted_gross\": 77777084.04347827}, {\"genre\": \"Thriller/Suspense\", \"inflation_adjusted_gross\": 89653789.75}, {\"genre\": \"Western\", \"inflation_adjusted_gross\": 73815706.57142857}]}}, {\"mode\": \"vega-lite\"});\n",
       "</script>"
      ],
      "text/plain": [
       "alt.Chart(...)"
      ]
     },
     "execution_count": 48,
     "metadata": {},
     "output_type": "execute_result"
    }
   ],
   "source": [
    "# Visualize the movie success regarding movie types and their infilation adjusted gross with the most sets using a bar plot.\n",
    "chart_genre_success = (\n",
    "    alt.Chart(genre_success, width=500, height=300)\n",
    "    .mark_bar()\n",
    "    .encode(\n",
    "        x=alt.X('genre:N', title='Movie Genre', sort='y'),\n",
    "        y=alt.Y('inflation_adjusted_gross:Q', title='Average Inflation Adjusted Gross'),\n",
    "    )\n",
    "    .properties(title='Figure 2: Exploring Movie Success Across Genres: Inflation Adjusted Gross Analysis')\n",
    ")\n",
    "chart_genre_success"
   ]
  },
  {
   "cell_type": "markdown",
   "metadata": {},
   "source": [
    "### 6f. Analyzing the Factors Behind the Elevated Success of Musicals:\n",
    "  \n",
    "  The Figure 2 provides information about Disney movies categorized by genre and their respective inflation-adjusted gross earnings. It's evident that Disney's musicals have been exceptionally successful, generating the highest earnings, followed closely by adventure and action genres. Meanwhile, genres such as horror and documentary appear to have lower earnings in comparison. These results offer valuable insights into the financial performance of Disney movies across different genres.\n",
    " \n",
    "  The exceptional success of Disney's musical genre, as seen in the significantly higher inflation-adjusted gross earnings, can be attributed to several factors. Musicals often appeal to a broad audience, transcending age and cultural boundaries. They typically feature catchy songs, memorable characters, and engaging storylines that resonate with viewers, making them more likely to be rewatched and purchased. Disney has a rich history of creating iconic musical animations like **\"The Lion King\"** and **\"Frozen,\"** which have left a lasting impact on popular culture. This consistent track record of delivering musical excellence contributes to the genre's continued financial success. Moreover, musicals tend to generate additional revenue through the sale of soundtracks and merchandise, further boosting their profitability."
   ]
  },
  {
   "cell_type": "markdown",
   "metadata": {},
   "source": [
    "## 7. Check the distribution of movie genres\n",
    "\n",
    "The distribution of movie genres is a valuable complement to the financial data provided in the second figure because it helps us understand why certain genres may have performed better financially. By examining the prevalence of different genres in the overall movie dataset, we can discern whether Disney's success in certain genres, such as musicals, is due to their unique appeal and popularity.\n",
    "\n",
    "For instance, if we see a relatively small number of musicals in the distribution compared to other genres but observe that they have high earnings in the financial data, it suggests that musicals, while not produced as frequently, have a strong financial impact when they are released. This is a valuable insight that connects the distribution of genres to the financial performance of Disney movies, helping us understand why certain genres outperform others in terms of earnings."
   ]
  },
  {
   "cell_type": "code",
   "execution_count": 49,
   "metadata": {},
   "outputs": [
    {
     "name": "stdout",
     "output_type": "stream",
     "text": [
      "                  genre  counts\n",
      "0                Action      40\n",
      "1             Adventure     129\n",
      "2          Black Comedy       3\n",
      "3                Comedy     182\n",
      "4   Concert/Performance       2\n",
      "5           Documentary      16\n",
      "6                 Drama     114\n",
      "7                Horror       6\n",
      "8               Musical      16\n",
      "9       Romantic Comedy      23\n",
      "10    Thriller/Suspense      24\n",
      "11              Western       7\n"
     ]
    }
   ],
   "source": [
    "## import the custom script to calculate genre numbers\n",
    "from myfunction import calculate_genre_counts\n",
    "\n",
    "genre_count = calculate_genre_counts(disney_movie_gross,'genre')\n",
    "print(genre_count)"
   ]
  },
  {
   "cell_type": "code",
   "execution_count": 50,
   "metadata": {},
   "outputs": [
    {
     "data": {
      "text/html": [
       "\n",
       "<div id=\"altair-viz-2940f32e67924419866f5e7e2f0f9a9e\"></div>\n",
       "<script type=\"text/javascript\">\n",
       "  (function(spec, embedOpt){\n",
       "    let outputDiv = document.currentScript.previousElementSibling;\n",
       "    if (outputDiv.id !== \"altair-viz-2940f32e67924419866f5e7e2f0f9a9e\") {\n",
       "      outputDiv = document.getElementById(\"altair-viz-2940f32e67924419866f5e7e2f0f9a9e\");\n",
       "    }\n",
       "    const paths = {\n",
       "      \"vega\": \"https://cdn.jsdelivr.net/npm//vega@5?noext\",\n",
       "      \"vega-lib\": \"https://cdn.jsdelivr.net/npm//vega-lib?noext\",\n",
       "      \"vega-lite\": \"https://cdn.jsdelivr.net/npm//vega-lite@4.8.1?noext\",\n",
       "      \"vega-embed\": \"https://cdn.jsdelivr.net/npm//vega-embed@6?noext\",\n",
       "    };\n",
       "\n",
       "    function loadScript(lib) {\n",
       "      return new Promise(function(resolve, reject) {\n",
       "        var s = document.createElement('script');\n",
       "        s.src = paths[lib];\n",
       "        s.async = true;\n",
       "        s.onload = () => resolve(paths[lib]);\n",
       "        s.onerror = () => reject(`Error loading script: ${paths[lib]}`);\n",
       "        document.getElementsByTagName(\"head\")[0].appendChild(s);\n",
       "      });\n",
       "    }\n",
       "\n",
       "    function showError(err) {\n",
       "      outputDiv.innerHTML = `<div class=\"error\" style=\"color:red;\">${err}</div>`;\n",
       "      throw err;\n",
       "    }\n",
       "\n",
       "    function displayChart(vegaEmbed) {\n",
       "      vegaEmbed(outputDiv, spec, embedOpt)\n",
       "        .catch(err => showError(`Javascript Error: ${err.message}<br>This usually means there's a typo in your chart specification. See the javascript console for the full traceback.`));\n",
       "    }\n",
       "\n",
       "    if(typeof define === \"function\" && define.amd) {\n",
       "      requirejs.config({paths});\n",
       "      require([\"vega-embed\"], displayChart, err => showError(`Error loading script: ${err.message}`));\n",
       "    } else if (typeof vegaEmbed === \"function\") {\n",
       "      displayChart(vegaEmbed);\n",
       "    } else {\n",
       "      loadScript(\"vega\")\n",
       "        .then(() => loadScript(\"vega-lite\"))\n",
       "        .then(() => loadScript(\"vega-embed\"))\n",
       "        .catch(showError)\n",
       "        .then(() => displayChart(vegaEmbed));\n",
       "    }\n",
       "  })({\"config\": {\"view\": {\"continuousWidth\": 400, \"continuousHeight\": 300}}, \"data\": {\"name\": \"data-1e41d07ad2048c253f6cb17f15790a59\"}, \"mark\": \"bar\", \"encoding\": {\"x\": {\"type\": \"nominal\", \"field\": \"genre\", \"sort\": \"y\", \"title\": \"Movie Genre\"}, \"y\": {\"type\": \"quantitative\", \"field\": \"counts\", \"title\": \"The count of Genres\"}}, \"height\": 300, \"title\": \"Figure 3: The counts of Genres in Disney Movie datasets\", \"width\": 500, \"$schema\": \"https://vega.github.io/schema/vega-lite/v4.8.1.json\", \"datasets\": {\"data-1e41d07ad2048c253f6cb17f15790a59\": [{\"genre\": \"Action\", \"counts\": 40}, {\"genre\": \"Adventure\", \"counts\": 129}, {\"genre\": \"Black Comedy\", \"counts\": 3}, {\"genre\": \"Comedy\", \"counts\": 182}, {\"genre\": \"Concert/Performance\", \"counts\": 2}, {\"genre\": \"Documentary\", \"counts\": 16}, {\"genre\": \"Drama\", \"counts\": 114}, {\"genre\": \"Horror\", \"counts\": 6}, {\"genre\": \"Musical\", \"counts\": 16}, {\"genre\": \"Romantic Comedy\", \"counts\": 23}, {\"genre\": \"Thriller/Suspense\", \"counts\": 24}, {\"genre\": \"Western\", \"counts\": 7}]}}, {\"mode\": \"vega-lite\"});\n",
       "</script>"
      ],
      "text/plain": [
       "alt.Chart(...)"
      ]
     },
     "execution_count": 50,
     "metadata": {},
     "output_type": "execute_result"
    }
   ],
   "source": [
    "# Visualize the counts of movie genres \n",
    "chart_genre_count = (\n",
    "    alt.Chart(genre_count, width=500, height=300)\n",
    "    .mark_bar()\n",
    "    .encode(\n",
    "        x=alt.X('genre:N', title='Movie Genre', sort='y'),\n",
    "        y=alt.Y('counts:Q', title='The count of Genres'),\n",
    "    )\n",
    "    .properties(title='Figure 3: The counts of Genres in Disney Movie datasets')\n",
    ")\n",
    "chart_genre_count"
   ]
  },
  {
   "cell_type": "markdown",
   "metadata": {},
   "source": [
    "Based on Figure 2 and Figure 3, while the number of comedy movies is higher than musical movies, the musical movies generate a higher average box office gross which makes it more preferable. This preference for certain movie genres over others can be influenced by various factors, including audience demographics, cultural trends, and marketing strategies. Therefore, it's crucial to consider these factors when analyzing why adventure movies might be more preferable than comedy movies, even if there are more comedy movies available.\n",
    "\n",
    "Comparing this figure to the previous one, we can see that the number of movies in each genre may not always correlate with their financial success. For instance, while musicals were among the highest earners in the first table, they have a relatively modest count of 16 movies in this table. This suggests that musicals, though financially lucrative, are not as prolific in terms of movie production as some other genres, which may indicate a different approach to market dynamics."
   ]
  },
  {
   "cell_type": "markdown",
   "metadata": {},
   "source": [
    "# Discussions\n",
    "\n",
    "In this analysis of Disney movies data, we explored audience preferences across various genres by using box office gross earnings.The analysis showed that Disney's musical genre is a financial powerhouse, generating the highest gross earnings when adjusted for inflation.This success can be attributed to its universal appeal, characterized by catchy songs, memorable characters, and compelling storylines that resonate with a diverse audience.In addition, the profitability of the genre can be boosted by the sale of soundtracks and merchandise.However, the number of movies in each genre does not necessarily dictate their financial success, as revealed by this analysis.For example, despite being high earners, musicals have fewer movies, revealing a unique market dynamic.\n",
    "\n",
    "Our findings align with the expectation that musicals, given their broad appeal and cultural significance, would be successful. However, it's interesting to note that success isn't solely determined by the number of movies produced in a genre.While this analysis has shed light on the financial success of Disney movie genres, several other questions remain unanswered. For instance, it would be interesting to explore the influence of specific movie directors, release dates, and MPAA ratings on earnings. \n",
    "\n",
    "In order to ensure the success of specific movie genres, it is important to understand audience demographics, cultural trends, and marketing strategies with more data analysis. This analysis can provide valuable insights for Disney and the entertainment industry, offering a better understanding of why certain genres outperform others in terms of earnings and popularity. It can inform future decision-making processes and content creation strategies for Disney and other film studios."
   ]
  },
  {
   "cell_type": "markdown",
   "metadata": {},
   "source": [
    "# References\n",
    "\n",
    "## Resources used\n",
    "* [Data Source](https://data.world/kgarrett/disney-character-success-00-16)\n",
    "    * The data were obtain from data.world Links to an external site.which follows a Creative Common Attribution 4.0 International License\n",
    "    * Disney Character Success dataset is from [Kelly Garrett](https://data.world/kgarrett)\n",
    "\n",
    "* [Understanding inflation adjustment](https://help.imdb.com/article/imdbpro/industry-research/box-office-mojo-by-imdbpro-faq/GCWTV4MQKGWRAUAP?ref_=mojo_cso_md#inflation)\n",
    "    * How are grosses adjusted for ticket price inflation?\n",
    "    \n",
    "* [Understanding the history of Disney](https://d23.com/disney-history/)\n",
    "    * Disney History\n",
    "\n"
   ]
  }
 ],
 "metadata": {
  "kernelspec": {
   "display_name": "Python 3",
   "language": "python",
   "name": "python3"
  },
  "language_info": {
   "codemirror_mode": {
    "name": "ipython",
    "version": 3
   },
   "file_extension": ".py",
   "mimetype": "text/x-python",
   "name": "python",
   "nbconvert_exporter": "python",
   "pygments_lexer": "ipython3",
   "version": "3.8.5"
  }
 },
 "nbformat": 4,
 "nbformat_minor": 4
}
